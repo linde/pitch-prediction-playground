{
 "cells": [
  {
   "cell_type": "code",
   "execution_count": null,
   "id": "30bc4f61",
   "metadata": {},
   "outputs": [],
   "source": [
    "\n",
    "%load_ext autoreload\n",
    "%autoreload 2\n",
    "\n",
    "import numpy as np\n",
    "import pandas as pd\n",
    "from torch.utils.data import DataLoader, random_split\n",
    "\n",
    "from modules.classifer_utils import NormalizedClassifierDataset, NormalizedClassifierDatasetMetadata, TrainingManager, GeneralNN\n"
   ]
  },
  {
   "cell_type": "code",
   "execution_count": null,
   "id": "fc0e5edf",
   "metadata": {},
   "outputs": [],
   "source": [
    "\n",
    "file_url = \"http://storage.googleapis.com/download.tensorflow.org/data/heart.csv\"\n",
    "heart_csv_df = pd.read_csv(file_url)\n",
    "\n",
    "heart_csv_df.head()"
   ]
  },
  {
   "cell_type": "code",
   "execution_count": null,
   "id": "5b2b3dd1",
   "metadata": {},
   "outputs": [],
   "source": [
    "\n",
    "label_column=\"target\"\n",
    "ds_meta = NormalizedClassifierDatasetMetadata(label_column)\n",
    "ds_meta.set_categorical_map({\n",
    "    col : list(heart_csv_df[col].unique()) for col in ['thal']\n",
    "})\n",
    "\n",
    "\n",
    "numeric_cols = heart_csv_df.select_dtypes(include=np.number).columns.tolist()\n",
    "numeric_cols.remove(label_column)\n",
    "ds_meta.ordinal_numeric_cols = numeric_cols\n",
    "overall_ds = NormalizedClassifierDataset(heart_csv_df, ds_meta)\n",
    "\n",
    "\n",
    "train_ds, test_ds = random_split(overall_ds, [.75, .25])\n",
    "\n",
    "batch_size = int(len(train_ds) / 10)\n",
    "train_dataloader = DataLoader(train_ds, batch_size=batch_size, shuffle=True, drop_last=True)\n",
    "test_dataloader = DataLoader(test_ds, batch_size=batch_size, shuffle=True, drop_last=True)\n",
    "\n",
    "print(f'{len(train_ds)} training records in with batch size {batch_size}, {len(test_ds)} records for test')\n",
    "\n",
    "first_training_record, _ = train_ds[0]\n",
    "num_features = first_training_record.shape[-1]\n",
    "print(f'datasets have {num_features} features')\n"
   ]
  },
  {
   "cell_type": "code",
   "execution_count": null,
   "id": "3892db76",
   "metadata": {},
   "outputs": [],
   "source": [
    "\n",
    "dropoutRate = 0.2\n",
    "\n",
    "first_training_record, _ = train_ds[0]\n",
    "input_features = first_training_record.shape[-1]\n",
    "\n",
    "model = GeneralNN( input_features, [32,16,1], dropoutRate )\n",
    "print(model)"
   ]
  },
  {
   "cell_type": "code",
   "execution_count": null,
   "id": "3aa18db3",
   "metadata": {},
   "outputs": [],
   "source": [
    "\n",
    "training_mgr = TrainingManager(model)\n",
    "training_mgr.train(train_dataloader, 100)"
   ]
  },
  {
   "cell_type": "code",
   "execution_count": null,
   "id": "366eec2d",
   "metadata": {},
   "outputs": [],
   "source": [
    "\n",
    "training_mgr.eval(test_dataloader)"
   ]
  }
 ],
 "metadata": {
  "kernelspec": {
   "display_name": ".venv",
   "language": "python",
   "name": "python3"
  },
  "language_info": {
   "codemirror_mode": {
    "name": "ipython",
    "version": 3
   },
   "file_extension": ".py",
   "mimetype": "text/x-python",
   "name": "python",
   "nbconvert_exporter": "python",
   "pygments_lexer": "ipython3",
   "version": "3.11.2"
  }
 },
 "nbformat": 4,
 "nbformat_minor": 5
}
