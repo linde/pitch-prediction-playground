{
 "cells": [
  {
   "cell_type": "code",
   "execution_count": null,
   "id": "30bc4f61",
   "metadata": {},
   "outputs": [],
   "source": [
    "\n",
    "%load_ext autoreload\n",
    "%autoreload 2\n",
    "%matplotlib inline\n",
    "\n",
    "import pandas as pd \n",
    "import numpy as np\n",
    "\n",
    "import torch \n",
    "from torch.utils.data import DataLoader, random_split\n",
    "import torch.nn as nn\n",
    "import torch.nn.functional as F\n",
    "import torch.optim as optim\n",
    "\n",
    "from sklearn.metrics import accuracy_score, precision_score, recall_score, f1_score\n",
    "from sklearn import preprocessing\n",
    "from sklearn.preprocessing import OneHotEncoder\n",
    "\n",
    "from modules.classifer_utils import ClassifierDataset, TrainingManager\n",
    "\n",
    "device = torch.accelerator.current_accelerator().type if torch.accelerator.is_available() else \"cpu\"\n",
    "print(f\"Using {device} device\")\n"
   ]
  },
  {
   "cell_type": "code",
   "execution_count": null,
   "id": "fc0e5edf",
   "metadata": {},
   "outputs": [],
   "source": [
    "\n",
    "file_url = \"http://storage.googleapis.com/download.tensorflow.org/data/heart.csv\"\n",
    "heart_csv_df = pd.read_csv(file_url)\n",
    "\n",
    "heart_csv_df"
   ]
  },
  {
   "cell_type": "code",
   "execution_count": null,
   "id": "5b2b3dd1",
   "metadata": {},
   "outputs": [],
   "source": [
    "## TODO consider skip last!\n",
    "\n",
    "\n",
    "[encoded_df] = ClassifierDataset.onehot_encode_datafames( [heart_csv_df] )\n",
    "\n",
    "overall_ds = ClassifierDataset(encoded_df, \"target\")\n",
    "\n",
    "train_ds, test_ds = random_split(overall_ds, [.75, .25])\n",
    "\n",
    "batch_size = int(len(train_ds) / 10)\n",
    "train_dataloader = DataLoader(train_ds, batch_size=batch_size, shuffle=True)\n",
    "test_dataloader = DataLoader(test_ds, batch_size=batch_size, shuffle=True)\n",
    "\n",
    "print(f'{len(train_ds)} training records in with batch size {batch_size}, {len(test_ds)} records for test')\n",
    "\n",
    "first_training_record, _ = train_ds[0]\n",
    "num_features = first_training_record.shape[-1]\n",
    "print(f'datasets have {num_features} features')\n"
   ]
  },
  {
   "cell_type": "code",
   "execution_count": null,
   "id": "3892db76",
   "metadata": {},
   "outputs": [],
   "source": [
    "DROPOUT_RATE_01 = .2\n",
    "\n",
    "class HeartRateNN(nn.Module):\n",
    "    def __init__(self, num_feature_columns):\n",
    "        super().__init__()\n",
    "        self.linear_stack = nn.Sequential(\n",
    "            nn.Linear(num_feature_columns, 32),\n",
    "            nn.Dropout(p=DROPOUT_RATE_01), \n",
    "            nn.GELU(),\n",
    "            nn.Linear(32, 16),\n",
    "            nn.Dropout(p=DROPOUT_RATE_01), \n",
    "            nn.GELU(),\n",
    "            nn.Linear(16, 1),\n",
    "            nn.Sigmoid()\n",
    "        )\n",
    "\n",
    "    def forward(self, x):\n",
    "        return self.linear_stack(x)\n",
    "    \n",
    "\n",
    "first_training_record, _ = train_ds[0]\n",
    "num_features = first_training_record.shape[-1]\n",
    "\n",
    "model = HeartRateNN(num_features)\n",
    "print(model)"
   ]
  },
  {
   "cell_type": "code",
   "execution_count": null,
   "id": "3aa18db3",
   "metadata": {},
   "outputs": [],
   "source": [
    "\n",
    "first_training_record, _ = train_ds[0]\n",
    "num_feature_columns = first_training_record.shape[-1]\n",
    "\n",
    "model = HeartRateNN(num_feature_columns)\n",
    "\n",
    "training_mgr = TrainingManager(model)\n",
    "training_mgr.train(train_dataloader, 100)\n"
   ]
  },
  {
   "cell_type": "code",
   "execution_count": null,
   "id": "366eec2d",
   "metadata": {},
   "outputs": [],
   "source": [
    "\n",
    "training_mgr.eval(test_dataloader)\n"
   ]
  }
 ],
 "metadata": {
  "kernelspec": {
   "display_name": ".venv",
   "language": "python",
   "name": "python3"
  },
  "language_info": {
   "codemirror_mode": {
    "name": "ipython",
    "version": 3
   },
   "file_extension": ".py",
   "mimetype": "text/x-python",
   "name": "python",
   "nbconvert_exporter": "python",
   "pygments_lexer": "ipython3",
   "version": "3.11.2"
  }
 },
 "nbformat": 4,
 "nbformat_minor": 5
}
