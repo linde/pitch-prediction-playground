{
 "cells": [
  {
   "cell_type": "code",
   "execution_count": null,
   "id": "2105a441",
   "metadata": {},
   "outputs": [],
   "source": [
    "\n",
    "%load_ext autoreload\n",
    "%autoreload 2\n",
    "\n",
    "import pandas as pd\n",
    "from torch.utils.data import DataLoader\n",
    "\n",
    "from modules.classifer_utils import NormalizedClassifierDataset, NormalizedClassifierDatasetMetadata, TrainingManager, GeneralNN\n"
   ]
  },
  {
   "cell_type": "code",
   "execution_count": null,
   "id": "b37a1bdd",
   "metadata": {},
   "outputs": [],
   "source": [
    "# Load the Titanic dataset.\n",
    "titanic_train_csv_df = pd.read_csv(\"https://storage.googleapis.com/tf-datasets/titanic/train.csv\")\n",
    "titanic_test_csv_df = pd.read_csv(\"https://storage.googleapis.com/tf-datasets/titanic/eval.csv\")\n",
    "print(f'titanic_train_csv_df shape: {titanic_train_csv_df.shape}')\n",
    "print(f'titanic_test_csv_df shape: {titanic_test_csv_df.shape}')\n",
    "\n",
    "display(titanic_test_csv_df.head())\n",
    "\n",
    "\n",
    "## now apply some metadata and create train and test loaders\n",
    "\n",
    "encoded_train_df, encoded_test_df = titanic_train_csv_df.copy(), titanic_test_csv_df.copy()\n",
    "union_df = pd.concat([encoded_train_df, encoded_test_df])\n",
    "\n",
    "\n",
    "label_column_name = \"survived\"\n",
    "ds_meta = NormalizedClassifierDatasetMetadata(label_column_name)\n",
    "\n",
    "ds_meta.set_categorical_map({\n",
    "    col : list(union_df[col].unique()) for col in ['sex', 'embark_town', 'alone']\n",
    "})\n",
    "\n",
    "ds_meta.set_ordinal_map({\n",
    "    \"class\" : ['First', 'Second', 'Third'],\n",
    "    \"deck\": ['A', 'B', 'C', 'D', 'E', 'F', 'G', 'unknown']\n",
    "})\n",
    "ds_meta.set_ordinal_numeric_cols( [\"age\", \"n_siblings_spouses\", \"parch\", \"fare\"] )\n",
    "\n",
    "\n",
    "train_ds = NormalizedClassifierDataset(encoded_train_df, ds_meta)\n",
    "test_ds = NormalizedClassifierDataset(encoded_test_df, ds_meta)\n",
    "\n",
    "batch_size = int(len(train_ds) / 20)\n",
    "\n",
    "train_dataloader = DataLoader(train_ds, batch_size=batch_size, shuffle=True, drop_last=True)\n",
    "test_dataloader = DataLoader(test_ds, shuffle=True, drop_last=True)\n",
    "print(f'{len(train_ds)} training records in with batch size {batch_size}, {len(test_ds)} records for test')\n",
    "\n",
    "print(f'train has {train_ds.get_feature_count()} features')\n",
    "print(f'test has {test_ds.get_feature_count()} features')\n"
   ]
  },
  {
   "cell_type": "code",
   "execution_count": null,
   "id": "3770164d",
   "metadata": {},
   "outputs": [],
   "source": [
    "dropoutRate = 0.2\n",
    "first_training_record, _ = train_ds[0]\n",
    "input_features = first_training_record.shape[-1]\n",
    "model = GeneralNN( input_features, [32,32,16,8,1], dropoutRate )\n",
    "\n",
    "print(model)\n"
   ]
  },
  {
   "cell_type": "code",
   "execution_count": null,
   "id": "0f73cf19",
   "metadata": {},
   "outputs": [],
   "source": [
    "\n",
    "training_mgr = TrainingManager(model)\n",
    "training_mgr.train(train_dataloader, 100)\n"
   ]
  },
  {
   "cell_type": "code",
   "execution_count": null,
   "id": "efb671ca",
   "metadata": {},
   "outputs": [],
   "source": [
    "\n",
    "training_mgr.eval(test_dataloader)\n"
   ]
  }
 ],
 "metadata": {
  "kernelspec": {
   "display_name": ".venv",
   "language": "python",
   "name": "python3"
  },
  "language_info": {
   "codemirror_mode": {
    "name": "ipython",
    "version": 3
   },
   "file_extension": ".py",
   "mimetype": "text/x-python",
   "name": "python",
   "nbconvert_exporter": "python",
   "pygments_lexer": "ipython3",
   "version": "3.11.2"
  }
 },
 "nbformat": 4,
 "nbformat_minor": 5
}
