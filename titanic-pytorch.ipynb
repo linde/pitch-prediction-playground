{
 "cells": [
  {
   "cell_type": "code",
   "execution_count": 2,
   "id": "2105a441",
   "metadata": {},
   "outputs": [
    {
     "name": "stdout",
     "output_type": "stream",
     "text": [
      "Using cpu device\n"
     ]
    }
   ],
   "source": [
    "%matplotlib inline\n",
    "import pandas as pd \n",
    "import numpy as np\n",
    "\n",
    "import torch \n",
    "from torch.utils.data import DataLoader\n",
    "import torch.nn as nn\n",
    "import torch.nn.functional as F\n",
    "import torch.optim as optim\n",
    "\n",
    "from sklearn.metrics import accuracy_score, precision_score, recall_score, f1_score\n",
    "from sklearn import preprocessing\n",
    "from sklearn.preprocessing import OneHotEncoder\n",
    "\n",
    "from modules.classifer_utils import ClassifierDataset, TrainingManager\n",
    "\n",
    "\n",
    "device = torch.accelerator.current_accelerator().type if torch.accelerator.is_available() else \"cpu\"\n",
    "print(f\"Using {device} device\")\n",
    "\n",
    "\n"
   ]
  },
  {
   "cell_type": "code",
   "execution_count": 3,
   "id": "8680d5f0",
   "metadata": {},
   "outputs": [
    {
     "name": "stdout",
     "output_type": "stream",
     "text": [
      "titanic_train_csv_df shape: (627, 10)\n",
      "titanic_test_csv_df shape: (264, 10)\n"
     ]
    }
   ],
   "source": [
    "# Load the Titanic dataset.\n",
    "titanic_train_csv_df = pd.read_csv(\"https://storage.googleapis.com/tf-datasets/titanic/train.csv\")\n",
    "titanic_test_csv_df = pd.read_csv(\"https://storage.googleapis.com/tf-datasets/titanic/eval.csv\")\n",
    "\n",
    "print(f'titanic_train_csv_df shape: {titanic_train_csv_df.shape}')\n",
    "print(f'titanic_test_csv_df shape: {titanic_test_csv_df.shape}')\n",
    "\n",
    "# concat test and train to get metadata for non numeric categories\n",
    "csv_union_df = pd.concat([titanic_test_csv_df, titanic_train_csv_df])\n",
    "\n"
   ]
  },
  {
   "cell_type": "code",
   "execution_count": 4,
   "id": "3770164d",
   "metadata": {},
   "outputs": [
    {
     "name": "stdout",
     "output_type": "stream",
     "text": [
      "627 training records in with batch size 62, 264 records for test\n",
      "train has 23 features\n",
      "test has 23 features\n"
     ]
    }
   ],
   "source": [
    "\n",
    "label_column_name = \"survived\"\n",
    "[train_encoded_df, test_encoded_df] = ClassifierDataset.onehot_encode_datafames([titanic_train_csv_df, titanic_test_csv_df])\n",
    "\n",
    "\n",
    "train_ds = ClassifierDataset(train_encoded_df, label_column_name)\n",
    "test_ds = ClassifierDataset(test_encoded_df, label_column_name)\n",
    "\n",
    "batch_size = int(len(train_ds) / 10)\n",
    "\n",
    "train_dataloader = DataLoader(train_ds, batch_size=batch_size, shuffle=True)\n",
    "test_dataloader = DataLoader(test_ds, shuffle=True)\n",
    "print(f'{len(train_ds)} training records in with batch size {batch_size}, {len(test_ds)} records for test')\n",
    "\n",
    "print(f'train has {train_ds.get_feature_count()} features')\n",
    "print(f'test has {test_ds.get_feature_count()} features')\n",
    "\n",
    "\n"
   ]
  },
  {
   "cell_type": "code",
   "execution_count": 5,
   "id": "05f7a545",
   "metadata": {},
   "outputs": [
    {
     "name": "stdout",
     "output_type": "stream",
     "text": [
      "TitanicSurvivalNeuralNetwork(\n",
      "  (linear_relu_stack): Sequential(\n",
      "    (0): Linear(in_features=23, out_features=64, bias=True)\n",
      "    (1): GELU(approximate='none')\n",
      "    (2): Dropout(p=0.2, inplace=False)\n",
      "    (3): Linear(in_features=64, out_features=64, bias=True)\n",
      "    (4): GELU(approximate='none')\n",
      "    (5): Dropout(p=0.2, inplace=False)\n",
      "    (6): Linear(in_features=64, out_features=32, bias=True)\n",
      "    (7): GELU(approximate='none')\n",
      "    (8): Dropout(p=0.2, inplace=False)\n",
      "    (9): Linear(in_features=32, out_features=32, bias=True)\n",
      "    (10): GELU(approximate='none')\n",
      "    (11): Linear(in_features=32, out_features=1, bias=True)\n",
      "    (12): Sigmoid()\n",
      "  )\n",
      ")\n"
     ]
    }
   ],
   "source": [
    "DROPOUT_RATE_01 = .20\n",
    "\n",
    "# TODO have a config for layers and wire them from it\n",
    "\n",
    "class TitanicSurvivalNeuralNetwork(nn.Module):\n",
    "    def __init__(self, num_feature_columns):\n",
    "        super().__init__()\n",
    "        self.linear_relu_stack = nn.Sequential(\n",
    "            nn.Linear(num_feature_columns, 64),\n",
    "            nn.GELU(),\n",
    "            nn.Dropout(p=DROPOUT_RATE_01), \n",
    "            nn.Linear(64, 64),\n",
    "            nn.GELU(),\n",
    "            nn.Dropout(p=DROPOUT_RATE_01), \n",
    "            nn.Linear(64, 32),\n",
    "            nn.GELU(),\n",
    "            nn.Dropout(p=DROPOUT_RATE_01), \n",
    "            nn.Linear(32, 32),\n",
    "            nn.GELU(),\n",
    "            nn.Linear(32, 1),\n",
    "            nn.Sigmoid()\n",
    "        )\n",
    "\n",
    "    def forward(self, x):\n",
    "        return self.linear_relu_stack(x)\n",
    "\n",
    "\n",
    "first_training_record, _ = train_ds[0]\n",
    "num_features = first_training_record.shape[-1]\n",
    "model = TitanicSurvivalNeuralNetwork( num_features)\n",
    "print(model)"
   ]
  },
  {
   "cell_type": "code",
   "execution_count": null,
   "id": "0f73cf19",
   "metadata": {},
   "outputs": [
    {
     "name": "stdout",
     "output_type": "stream",
     "text": [
      "Epoch [1/100], 318 of 627 correct 50.7 %\n",
      "Epoch [2/100], 386 of 627 correct 61.6 %\n",
      "Epoch [3/100], 385 of 627 correct 61.4 %\n",
      "Epoch [4/100], 398 of 627 correct 63.5 %\n",
      "Epoch [5/100], 445 of 627 correct 71.0 %\n",
      "Epoch [6/100], 488 of 627 correct 77.8 %\n",
      "Epoch [7/100], 499 of 627 correct 79.6 %\n",
      "Epoch [8/100], 494 of 627 correct 78.8 %\n",
      "Epoch [9/100], 505 of 627 correct 80.5 %\n",
      "Epoch [10/100], 506 of 627 correct 80.7 %\n",
      "Epoch [11/100], 511 of 627 correct 81.5 %\n",
      "Epoch [12/100], 515 of 627 correct 82.1 %\n",
      "Epoch [13/100], 514 of 627 correct 82.0 %\n",
      "Epoch [14/100], 514 of 627 correct 82.0 %\n",
      "Epoch [15/100], 514 of 627 correct 82.0 %\n",
      "Epoch [16/100], 520 of 627 correct 82.9 %\n",
      "Epoch [17/100], 518 of 627 correct 82.6 %\n",
      "Epoch [18/100], 514 of 627 correct 82.0 %\n",
      "Epoch [19/100], 514 of 627 correct 82.0 %\n",
      "Epoch [20/100], 517 of 627 correct 82.5 %\n",
      "Epoch [21/100], 517 of 627 correct 82.5 %\n",
      "Epoch [22/100], 523 of 627 correct 83.4 %\n",
      "Epoch [23/100], 516 of 627 correct 82.3 %\n",
      "Epoch [24/100], 517 of 627 correct 82.5 %\n",
      "Epoch [25/100], 517 of 627 correct 82.5 %\n",
      "Epoch [26/100], 519 of 627 correct 82.8 %\n",
      "Epoch [27/100], 522 of 627 correct 83.3 %\n",
      "Epoch [28/100], 520 of 627 correct 82.9 %\n",
      "Epoch [29/100], 524 of 627 correct 83.6 %\n",
      "Epoch [30/100], 518 of 627 correct 82.6 %\n",
      "Epoch [31/100], 519 of 627 correct 82.8 %\n",
      "Epoch [32/100], 520 of 627 correct 82.9 %\n",
      "Epoch [33/100], 521 of 627 correct 83.1 %\n",
      "Epoch [34/100], 520 of 627 correct 82.9 %\n",
      "Epoch [35/100], 517 of 627 correct 82.5 %\n",
      "Epoch [36/100], 525 of 627 correct 83.7 %\n",
      "Epoch [37/100], 523 of 627 correct 83.4 %\n",
      "Epoch [38/100], 516 of 627 correct 82.3 %\n",
      "Epoch [39/100], 517 of 627 correct 82.5 %\n",
      "Epoch [40/100], 519 of 627 correct 82.8 %\n",
      "Epoch [41/100], 527 of 627 correct 84.1 %\n",
      "Epoch [42/100], 522 of 627 correct 83.3 %\n",
      "Epoch [43/100], 521 of 627 correct 83.1 %\n",
      "Epoch [44/100], 518 of 627 correct 82.6 %\n",
      "Epoch [45/100], 514 of 627 correct 82.0 %\n",
      "Epoch [46/100], 517 of 627 correct 82.5 %\n",
      "Epoch [47/100], 519 of 627 correct 82.8 %\n",
      "Epoch [48/100], 518 of 627 correct 82.6 %\n",
      "Epoch [49/100], 518 of 627 correct 82.6 %\n",
      "Epoch [50/100], 523 of 627 correct 83.4 %\n",
      "Epoch [51/100], 523 of 627 correct 83.4 %\n",
      "Epoch [52/100], 523 of 627 correct 83.4 %\n",
      "Epoch [53/100], 522 of 627 correct 83.3 %\n",
      "Epoch [54/100], 521 of 627 correct 83.1 %\n"
     ]
    }
   ],
   "source": [
    "\n",
    "\n",
    "SEED = 123\n",
    "torch.manual_seed(SEED)\n",
    "\n",
    "\n",
    "if torch.cuda.is_available():\n",
    "    torch.cuda.manual_seed(SEED)\n",
    "    torch.cuda.manual_seed_all(SEED)\n",
    "\n",
    "\n",
    "num_features = train_ds.get_feature_count()\n",
    "model = TitanicSurvivalNeuralNetwork( num_features )\n",
    "model.to(device)\n",
    "\n",
    "loss_fn   = nn.BCELoss()  # binary cross entropy\n",
    "optimizer = optim.Adam(model.parameters(), lr=0.001)\n",
    "\n",
    "num_epochs = 100\n",
    "\n",
    "for epoch in range(num_epochs):\n",
    "    epoch_correct_count, epoch_pred_count = 0, 0\n",
    "    for X, y in train_dataloader:\n",
    "\n",
    "        X = X.to(device)\n",
    "        y = y.reshape(-1, 1).to(device)\n",
    "\n",
    "        y_pred = model(X)\n",
    "        loss = loss_fn(y_pred, y)\n",
    "\n",
    "        y_pred_guess = torch.round(y_pred)\n",
    "        batch_num_correct = (y == y_pred_guess).sum()\n",
    "        epoch_correct_count += batch_num_correct\n",
    "        epoch_pred_count += len(y)\n",
    "\n",
    "        optimizer.zero_grad()\n",
    "        loss.backward()\n",
    "        optimizer.step()\n",
    "\n",
    "    print(f\"Epoch [{epoch+1}/{num_epochs}], {epoch_correct_count} of {epoch_pred_count} correct {(100*epoch_correct_count/epoch_pred_count):.1f} %\")\n"
   ]
  },
  {
   "cell_type": "code",
   "execution_count": null,
   "id": "efb671ca",
   "metadata": {},
   "outputs": [],
   "source": [
    "\n",
    "training_mgr = TrainingManager()\n",
    "training_mgr.eval(model, test_dataloader)\n"
   ]
  }
 ],
 "metadata": {
  "kernelspec": {
   "display_name": ".venv",
   "language": "python",
   "name": "python3"
  },
  "language_info": {
   "codemirror_mode": {
    "name": "ipython",
    "version": 3
   },
   "file_extension": ".py",
   "mimetype": "text/x-python",
   "name": "python",
   "nbconvert_exporter": "python",
   "pygments_lexer": "ipython3",
   "version": "3.11.2"
  }
 },
 "nbformat": 4,
 "nbformat_minor": 5
}
