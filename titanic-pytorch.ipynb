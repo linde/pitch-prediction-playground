{
 "cells": [
  {
   "cell_type": "code",
   "execution_count": null,
   "id": "2105a441",
   "metadata": {},
   "outputs": [],
   "source": [
    "\n",
    "%load_ext autoreload\n",
    "%autoreload 2\n",
    "\n",
    "import pandas as pd\n",
    "import itertools\n",
    "import torch\n",
    "from torch.utils.data import DataLoader\n",
    "\n",
    "from modules.classifer_utils import ClassifierDataset, TrainingManager, GeneralNN\n",
    "\n",
    "device = torch.accelerator.current_accelerator().type if torch.accelerator.is_available() else \"cpu\"\n",
    "print(f\"Using {device} device\")\n",
    "\n"
   ]
  },
  {
   "cell_type": "code",
   "execution_count": null,
   "id": "8680d5f0",
   "metadata": {},
   "outputs": [],
   "source": [
    "# Load the Titanic dataset.\n",
    "titanic_train_csv_df = pd.read_csv(\"https://storage.googleapis.com/tf-datasets/titanic/train.csv\")\n",
    "titanic_test_csv_df = pd.read_csv(\"https://storage.googleapis.com/tf-datasets/titanic/eval.csv\")\n",
    "\n",
    "print(f'titanic_train_csv_df shape: {titanic_train_csv_df.shape}')\n",
    "print(f'titanic_test_csv_df shape: {titanic_test_csv_df.shape}')\n",
    "\n"
   ]
  },
  {
   "cell_type": "code",
   "execution_count": null,
   "id": "3770164d",
   "metadata": {},
   "outputs": [],
   "source": [
    "\n",
    "label_column_name = \"survived\"\n",
    "[train_encoded_df, test_encoded_df] = ClassifierDataset.onehot_encode_datafames([titanic_train_csv_df, titanic_test_csv_df])\n",
    "\n",
    "\n",
    "train_ds = ClassifierDataset(train_encoded_df, label_column_name)\n",
    "test_ds = ClassifierDataset(test_encoded_df, label_column_name)\n",
    "\n",
    "batch_size = int(len(train_ds) / 10)\n",
    "\n",
    "train_dataloader = DataLoader(train_ds, batch_size=batch_size, shuffle=True)\n",
    "test_dataloader = DataLoader(test_ds, shuffle=True)\n",
    "print(f'{len(train_ds)} training records in with batch size {batch_size}, {len(test_ds)} records for test')\n",
    "\n",
    "print(f'train has {train_ds.get_feature_count()} features')\n",
    "print(f'test has {test_ds.get_feature_count()} features')\n",
    "\n",
    "\n",
    "dropoutRate = 0.2\n",
    "\n",
    "first_training_record, _ = train_ds[0]\n",
    "input_features = first_training_record.shape[-1]\n",
    "\n",
    "model = GeneralNN( input_features, [32,16,8,1], dropoutRate )\n",
    "\n",
    "\n",
    "print(model)\n"
   ]
  },
  {
   "cell_type": "code",
   "execution_count": null,
   "id": "0f73cf19",
   "metadata": {},
   "outputs": [],
   "source": [
    "\n",
    "\n",
    "training_mgr = TrainingManager(model)\n",
    "training_mgr.train(train_dataloader, 100)\n",
    "\n"
   ]
  },
  {
   "cell_type": "code",
   "execution_count": null,
   "id": "efb671ca",
   "metadata": {},
   "outputs": [],
   "source": [
    "\n",
    "training_mgr.eval(test_dataloader)\n"
   ]
  }
 ],
 "metadata": {
  "kernelspec": {
   "display_name": ".venv",
   "language": "python",
   "name": "python3"
  },
  "language_info": {
   "codemirror_mode": {
    "name": "ipython",
    "version": 3
   },
   "file_extension": ".py",
   "mimetype": "text/x-python",
   "name": "python",
   "nbconvert_exporter": "python",
   "pygments_lexer": "ipython3",
   "version": "3.11.2"
  }
 },
 "nbformat": 4,
 "nbformat_minor": 5
}
