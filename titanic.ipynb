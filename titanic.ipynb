{
 "cells": [
  {
   "cell_type": "code",
   "execution_count": null,
   "metadata": {},
   "outputs": [],
   "source": [
    "import pprint as pp\n",
    "\n",
    "import pandas as pd\n",
    "import numpy as np\n",
    "\n",
    "from matplotlib import pyplot as plt\n",
    "\n",
    "# Make numpy values easier to read.\n",
    "np.set_printoptions(precision=3, suppress=True)\n",
    "\n",
    "import tensorflow as tf\n",
    "import keras\n",
    "from keras import layers\n",
    "from keras.losses import BinaryCrossentropy\n"
   ]
  },
  {
   "cell_type": "code",
   "execution_count": null,
   "metadata": {},
   "outputs": [],
   "source": [
    "# Load the Titanic dataset.\n",
    "titanic_df = pd.read_csv(\"https://storage.googleapis.com/tf-datasets/titanic/train.csv\")\n",
    "titanic = titanic_df.astype({\n",
    "    'survived': 'int8',\n",
    "    'age': 'int8',\n",
    "    'n_siblings_spouses': 'int8',\n",
    "    'parch': 'int8',\n",
    "    'fare': 'int16',\n",
    "})\n",
    "\n",
    "titanic.info()\n",
    "\n",
    "titanic_features = titanic.copy()\n",
    "titanic_labels = titanic_features.pop('survived')\n"
   ]
  },
  {
   "cell_type": "code",
   "execution_count": null,
   "metadata": {},
   "outputs": [],
   "source": [
    "\n",
    "# attempts to (eventually) preprocess a dataframe of features\n",
    "# returns all of the collected inputs and preprocessed features \n",
    "def process_dataframe_inputs(feature_df):\n",
    "\n",
    "  # first we walk through each feature in the dataframe, make an input for it,\n",
    "  # normalize it using the feature_df data, then collect it into lists of\n",
    "  # inputs and preprocessed inputs, respectively\n",
    "\n",
    "  input_layers, preprocessed_inputs  = [], []\n",
    "  for name, col in feature_df.items():\n",
    "\n",
    "    # TODO do this with log() ... print(\"processing %s ...\" % name)\n",
    "\n",
    "    # convert to tensorflow types. this is straightforward except \n",
    "    # for objects, treat them as strings.\n",
    "    dtype_str = str(col.dtype) if col.dtype != object else \"string\"\n",
    "    cur_dtype = tf.as_dtype(dtype_str)\n",
    "    cur_input = tf.keras.Input(shape=(1,), name=name, dtype=cur_dtype)\n",
    "    input_layers.append(cur_input)  \n",
    "\n",
    "    if cur_dtype == tf.string:\n",
    "      lookup = layers.StringLookup(vocabulary=np.unique(col))    \n",
    "      norm = layers.CategoryEncoding(num_tokens=lookup.vocabulary_size())\n",
    "      normalized_input = norm(lookup(cur_input))\n",
    "      preprocessed_inputs.append(normalized_input)\n",
    "\n",
    "    else:\n",
    "      norm = layers.Normalization(axis=None)\n",
    "      norm.adapt(col)\n",
    "      normalized_input = norm(cur_input)\n",
    "      preprocessed_inputs.append( normalized_input )\n",
    "\n",
    "  # prepare the return values by concatentating the preprocessed inputs\n",
    "  # and creating a model for which they serve as outputs.\n",
    "  # \n",
    "  # returns the input layers and the processed_inputs, respectively\n",
    "\n",
    "  preprocessed_inputs_cat = layers.Concatenate()(preprocessed_inputs)\n",
    "  preprocessing_model = tf.keras.Model(input_layers, preprocessed_inputs_cat)\n",
    "  preprocessed_inputs = preprocessing_model(input_layers)\n",
    "\n",
    "  return input_layers, preprocessed_inputs\n"
   ]
  },
  {
   "cell_type": "code",
   "execution_count": null,
   "metadata": {},
   "outputs": [],
   "source": [
    "\n",
    "input_layers, preprocessed_inputs = process_dataframe_inputs(titanic_features)\n",
    "\n",
    "seqential_hidden_model = tf.keras.Sequential([\n",
    "  layers.Dropout(0.10),\n",
    "  layers.Dense(16),\n",
    "  layers.Dense(16),\n",
    "  layers.Dense(8),\n",
    "  layers.Dense(1)\n",
    "])\n",
    "result = seqential_hidden_model(preprocessed_inputs)\n",
    "titanic_model = tf.keras.Model(input_layers, result)\n",
    "titanic_model.compile(\"adam\", \"binary_crossentropy\", metrics=[\"accuracy\"])\n",
    "\n",
    "titanic_features_dict = {\n",
    "  name: np.array(value) for name, value in titanic_features.items()\n",
    "}\n",
    "\n",
    "hist = titanic_model.fit(x=titanic_features_dict, y=titanic_labels, epochs=100, batch_size=25)\n"
   ]
  },
  {
   "cell_type": "code",
   "execution_count": null,
   "metadata": {},
   "outputs": [],
   "source": [
    "\n",
    "fig, ax1 = plt.subplots()\n",
    "ax1.plot(hist.epoch, hist.history['loss'], label='loss', color=\"blue\")\n",
    "ax2 = ax1.twinx()\n",
    "ax2.plot(hist.epoch, hist.history['accuracy'], label='accuracy', color=\"red\")\n",
    "\n",
    "plt.show()\n",
    "\n",
    "# tf.keras.utils.plot_model(model = titanic_model, rankdir=\"LR\",)\n",
    "\n"
   ]
  }
 ],
 "metadata": {
  "kernelspec": {
   "display_name": ".venv",
   "language": "python",
   "name": "python3"
  },
  "language_info": {
   "codemirror_mode": {
    "name": "ipython",
    "version": 3
   },
   "file_extension": ".py",
   "mimetype": "text/x-python",
   "name": "python",
   "nbconvert_exporter": "python",
   "pygments_lexer": "ipython3",
   "version": "3.9.2"
  },
  "orig_nbformat": 4
 },
 "nbformat": 4,
 "nbformat_minor": 2
}
