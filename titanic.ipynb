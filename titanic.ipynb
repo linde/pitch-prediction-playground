{
 "cells": [
  {
   "cell_type": "code",
   "execution_count": 39,
   "metadata": {},
   "outputs": [],
   "source": [
    "import pprint as pp\n",
    "\n",
    "import pandas as pd\n",
    "import numpy as np\n",
    "\n",
    "from matplotlib import pyplot as plt\n",
    "\n",
    "\n",
    "# Make numpy values easier to read.\n",
    "np.set_printoptions(precision=3, suppress=True)\n",
    "\n",
    "import tensorflow as tf\n",
    "import keras\n",
    "from keras import layers\n",
    "from keras.losses import BinaryCrossentropy\n"
   ]
  },
  {
   "cell_type": "code",
   "execution_count": 3,
   "metadata": {},
   "outputs": [
    {
     "name": "stdout",
     "output_type": "stream",
     "text": [
      "<class 'pandas.core.frame.DataFrame'>\n",
      "RangeIndex: 627 entries, 0 to 626\n",
      "Data columns (total 10 columns):\n",
      " #   Column              Non-Null Count  Dtype  \n",
      "---  ------              --------------  -----  \n",
      " 0   survived            627 non-null    int64  \n",
      " 1   sex                 627 non-null    object \n",
      " 2   age                 627 non-null    float64\n",
      " 3   n_siblings_spouses  627 non-null    int64  \n",
      " 4   parch               627 non-null    int64  \n",
      " 5   fare                627 non-null    float64\n",
      " 6   class               627 non-null    object \n",
      " 7   deck                627 non-null    object \n",
      " 8   embark_town         627 non-null    object \n",
      " 9   alone               627 non-null    object \n",
      "dtypes: float64(2), int64(3), object(5)\n",
      "memory usage: 49.1+ KB\n"
     ]
    }
   ],
   "source": [
    "# Load the Titanic dataset.\n",
    "titanic = pd.read_csv(\"https://storage.googleapis.com/tf-datasets/titanic/train.csv\")\n",
    "titanic.info()\n",
    "\n",
    "titanic_features = titanic.copy()\n",
    "titanic_labels = titanic_features.pop('survived')\n"
   ]
  },
  {
   "cell_type": "code",
   "execution_count": 14,
   "metadata": {},
   "outputs": [
    {
     "name": "stdout",
     "output_type": "stream",
     "text": [
      "processing sex ...\n",
      "processing age ...\n",
      "processing n_siblings_spouses ...\n",
      "processing parch ...\n",
      "processing fare ...\n",
      "processing class ...\n",
      "processing deck ...\n",
      "processing embark_town ...\n",
      "processing alone ...\n"
     ]
    }
   ],
   "source": [
    "\n",
    "## TODO make this a class or at least a function\n",
    "input_layers, preprocessed_inputs  = [], []\n",
    "for name, col in titanic_features.items():\n",
    "\n",
    "  print(\"processing %s ...\" % name)\n",
    "\n",
    "  cur_dtype = tf.string if col.dtype == object else tf.float32\n",
    "\n",
    "  cur_input = tf.keras.Input(shape=(1,), name=name, dtype=cur_dtype)\n",
    "  input_layers.append(cur_input)  \n",
    "\n",
    "  if cur_dtype == tf.string:\n",
    "    lookup = layers.StringLookup(vocabulary=np.unique(col))    \n",
    "    norm = layers.CategoryEncoding(num_tokens=lookup.vocabulary_size())\n",
    "    normalized_input = norm(lookup(cur_input))\n",
    "    preprocessed_inputs.append(normalized_input)\n",
    "\n",
    "  else:\n",
    "    norm = layers.Normalization(axis=None)\n",
    "    norm.adapt(col)\n",
    "    normalized_input = norm(cur_input)\n",
    "    preprocessed_inputs.append( normalized_input )\n",
    "\n",
    "\n",
    "preprocessed_inputs_cat = layers.Concatenate()(preprocessed_inputs)\n",
    "titanic_preprocessing = tf.keras.Model(input_layers, preprocessed_inputs_cat)\n",
    "\n",
    "#tf.keras.utils.plot_model(model = titanic_preprocessing , rankdir=\"LR\")\n"
   ]
  },
  {
   "cell_type": "code",
   "execution_count": 73,
   "metadata": {},
   "outputs": [
    {
     "name": "stdout",
     "output_type": "stream",
     "text": [
      "Epoch 1/50\n",
      "20/20 [==============================] - 1s 4ms/step - loss: 8.5960 - accuracy: 0.3317\n",
      "Epoch 2/50\n",
      "20/20 [==============================] - 0s 4ms/step - loss: 8.0114 - accuracy: 0.3748\n",
      "Epoch 3/50\n",
      "20/20 [==============================] - 0s 4ms/step - loss: 6.2028 - accuracy: 0.4051\n",
      "Epoch 4/50\n",
      "20/20 [==============================] - 0s 4ms/step - loss: 4.3978 - accuracy: 0.4514\n",
      "Epoch 5/50\n",
      "20/20 [==============================] - 0s 5ms/step - loss: 3.8881 - accuracy: 0.4976\n",
      "Epoch 6/50\n",
      "20/20 [==============================] - 0s 4ms/step - loss: 4.1112 - accuracy: 0.5040\n",
      "Epoch 7/50\n",
      "20/20 [==============================] - 0s 4ms/step - loss: 4.0231 - accuracy: 0.5231\n",
      "Epoch 8/50\n",
      "20/20 [==============================] - 0s 4ms/step - loss: 3.8442 - accuracy: 0.5247\n",
      "Epoch 9/50\n",
      "20/20 [==============================] - 0s 4ms/step - loss: 3.5640 - accuracy: 0.5710\n",
      "Epoch 10/50\n",
      "20/20 [==============================] - 0s 4ms/step - loss: 3.0053 - accuracy: 0.6507\n",
      "Epoch 11/50\n",
      "20/20 [==============================] - 0s 4ms/step - loss: 3.1889 - accuracy: 0.6443\n",
      "Epoch 12/50\n",
      "20/20 [==============================] - 0s 5ms/step - loss: 3.1352 - accuracy: 0.6491\n",
      "Epoch 13/50\n",
      "20/20 [==============================] - 0s 4ms/step - loss: 3.0704 - accuracy: 0.6651\n",
      "Epoch 14/50\n",
      "20/20 [==============================] - 0s 3ms/step - loss: 2.6494 - accuracy: 0.6762\n",
      "Epoch 15/50\n",
      "20/20 [==============================] - 0s 4ms/step - loss: 2.6402 - accuracy: 0.6826\n",
      "Epoch 16/50\n",
      "20/20 [==============================] - 0s 4ms/step - loss: 2.8358 - accuracy: 0.6778\n",
      "Epoch 17/50\n",
      "20/20 [==============================] - 0s 4ms/step - loss: 2.7337 - accuracy: 0.6794\n",
      "Epoch 18/50\n",
      "20/20 [==============================] - 0s 5ms/step - loss: 2.6654 - accuracy: 0.6954\n",
      "Epoch 19/50\n",
      "20/20 [==============================] - 0s 4ms/step - loss: 2.6953 - accuracy: 0.6683\n",
      "Epoch 20/50\n",
      "20/20 [==============================] - 0s 4ms/step - loss: 2.7766 - accuracy: 0.6826\n",
      "Epoch 21/50\n",
      "20/20 [==============================] - 0s 4ms/step - loss: 2.6140 - accuracy: 0.6938\n",
      "Epoch 22/50\n",
      "20/20 [==============================] - 0s 4ms/step - loss: 2.4506 - accuracy: 0.6842\n",
      "Epoch 23/50\n",
      "20/20 [==============================] - 0s 4ms/step - loss: 2.6426 - accuracy: 0.6858\n",
      "Epoch 24/50\n",
      "20/20 [==============================] - 0s 3ms/step - loss: 2.5403 - accuracy: 0.6922\n",
      "Epoch 25/50\n",
      "20/20 [==============================] - 0s 4ms/step - loss: 2.4927 - accuracy: 0.6890\n",
      "Epoch 26/50\n",
      "20/20 [==============================] - 0s 4ms/step - loss: 2.2373 - accuracy: 0.6954\n",
      "Epoch 27/50\n",
      "20/20 [==============================] - 0s 4ms/step - loss: 2.2697 - accuracy: 0.6730\n",
      "Epoch 28/50\n",
      "20/20 [==============================] - 0s 4ms/step - loss: 2.4436 - accuracy: 0.6746\n",
      "Epoch 29/50\n",
      "20/20 [==============================] - 0s 4ms/step - loss: 2.3749 - accuracy: 0.6762\n",
      "Epoch 30/50\n",
      "20/20 [==============================] - 0s 3ms/step - loss: 2.1839 - accuracy: 0.6778\n",
      "Epoch 31/50\n",
      "20/20 [==============================] - 0s 4ms/step - loss: 2.0716 - accuracy: 0.6842\n",
      "Epoch 32/50\n",
      "20/20 [==============================] - 0s 4ms/step - loss: 1.9943 - accuracy: 0.6762\n",
      "Epoch 33/50\n",
      "20/20 [==============================] - 0s 5ms/step - loss: 1.8178 - accuracy: 0.6762\n",
      "Epoch 34/50\n",
      "20/20 [==============================] - 0s 4ms/step - loss: 1.8790 - accuracy: 0.6986\n",
      "Epoch 35/50\n",
      "20/20 [==============================] - 0s 4ms/step - loss: 1.7638 - accuracy: 0.7129\n",
      "Epoch 36/50\n",
      "20/20 [==============================] - 0s 5ms/step - loss: 1.6878 - accuracy: 0.7145\n",
      "Epoch 37/50\n",
      "20/20 [==============================] - 0s 4ms/step - loss: 1.9268 - accuracy: 0.7033\n",
      "Epoch 38/50\n",
      "20/20 [==============================] - 0s 3ms/step - loss: 1.6628 - accuracy: 0.7257\n",
      "Epoch 39/50\n",
      "20/20 [==============================] - 0s 4ms/step - loss: 1.6816 - accuracy: 0.7368\n",
      "Epoch 40/50\n",
      "20/20 [==============================] - 0s 4ms/step - loss: 1.8146 - accuracy: 0.6842\n",
      "Epoch 41/50\n",
      "20/20 [==============================] - 0s 3ms/step - loss: 1.6166 - accuracy: 0.6826\n",
      "Epoch 42/50\n",
      "20/20 [==============================] - 0s 3ms/step - loss: 1.5136 - accuracy: 0.7049\n",
      "Epoch 43/50\n",
      "20/20 [==============================] - 0s 4ms/step - loss: 1.5016 - accuracy: 0.7352\n",
      "Epoch 44/50\n",
      "20/20 [==============================] - 0s 4ms/step - loss: 1.3487 - accuracy: 0.7480\n",
      "Epoch 45/50\n",
      "20/20 [==============================] - 0s 3ms/step - loss: 1.1260 - accuracy: 0.7735\n",
      "Epoch 46/50\n",
      "20/20 [==============================] - 0s 4ms/step - loss: 1.1156 - accuracy: 0.7592\n",
      "Epoch 47/50\n",
      "20/20 [==============================] - 0s 3ms/step - loss: 1.2316 - accuracy: 0.7576\n",
      "Epoch 48/50\n",
      "20/20 [==============================] - 0s 4ms/step - loss: 1.4576 - accuracy: 0.7305\n",
      "Epoch 49/50\n",
      "20/20 [==============================] - 0s 4ms/step - loss: 1.4096 - accuracy: 0.7432\n",
      "Epoch 50/50\n",
      "20/20 [==============================] - 0s 3ms/step - loss: 1.2471 - accuracy: 0.7480\n"
     ]
    }
   ],
   "source": [
    "\n",
    "body = tf.keras.Sequential([\n",
    "  layers.Dropout(0.10),\n",
    "  layers.Dense(32),\n",
    "  layers.Dense(1)\n",
    "])\n",
    "\n",
    "preprocessed_inputs = titanic_preprocessing(input_layers)\n",
    "result = body(preprocessed_inputs)\n",
    "titanic_model = tf.keras.Model(input_layers, result)\n",
    "titanic_model.compile(\"adam\", \"binary_crossentropy\", metrics=[\"accuracy\"])\n",
    "\n",
    "titanic_features_dict = {\n",
    "  name: np.array(value) for name, value in titanic_features.items()\n",
    "}\n",
    "\n",
    "hist = titanic_model.fit(x=titanic_features_dict, y=titanic_labels, epochs=50) #, batch_size=10)\n"
   ]
  },
  {
   "cell_type": "code",
   "execution_count": 78,
   "metadata": {},
   "outputs": [
    {
     "data": {
      "image/png": "[encoded data removed]",
      "text/plain": [
       "<Figure size 640x480 with 2 Axes>"
      ]
     },
     "metadata": {},
     "output_type": "display_data"
    }
   ],
   "source": [
    "\n",
    "fig, ax1 = plt.subplots()\n",
    "ax1.plot(hist.epoch, hist.history['loss'], label='loss', color=\"blue\")\n",
    "ax2 = ax1.twinx()\n",
    "ax2.plot(hist.epoch, hist.history['accuracy'], label='accuracy', color=\"red\")\n",
    "\n",
    "plt.show()\n",
    "\n"
   ]
  }
 ],
 "metadata": {
  "kernelspec": {
   "display_name": ".venv",
   "language": "python",
   "name": "python3"
  },
  "language_info": {
   "codemirror_mode": {
    "name": "ipython",
    "version": 3
   },
   "file_extension": ".py",
   "mimetype": "text/x-python",
   "name": "python",
   "nbconvert_exporter": "python",
   "pygments_lexer": "ipython3",
   "version": "3.9.2"
  },
  "orig_nbformat": 4
 },
 "nbformat": 4,
 "nbformat_minor": 2
}
